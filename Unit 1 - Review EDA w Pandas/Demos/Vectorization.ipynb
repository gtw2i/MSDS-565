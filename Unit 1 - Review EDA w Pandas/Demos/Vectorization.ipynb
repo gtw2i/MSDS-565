{
 "cells": [
  {
   "cell_type": "code",
   "execution_count": 1,
   "id": "ecbfa4a6-d698-4383-bc08-817470ea075d",
   "metadata": {},
   "outputs": [],
   "source": [
    "import pandas as pd\n",
    "import numpy as np"
   ]
  },
  {
   "cell_type": "markdown",
   "id": "a1d96a0c-fd32-4f94-ae93-64ed22ac89c5",
   "metadata": {},
   "source": [
    "# Create a series or array"
   ]
  },
  {
   "cell_type": "code",
   "execution_count": 6,
   "id": "249e598c-25f4-40de-8416-8ac5f95904d7",
   "metadata": {},
   "outputs": [],
   "source": [
    "N = int(10e4)\n",
    "\n",
    "x = pd.Series(np.random.rand(N))"
   ]
  },
  {
   "cell_type": "markdown",
   "id": "fdb83785-ea64-4135-a29b-c7d601fecd7c",
   "metadata": {},
   "source": [
    "# Vectorized math operation (magic method)"
   ]
  },
  {
   "cell_type": "code",
   "execution_count": 7,
   "id": "426f781d-d824-4217-b790-6f7a2d4dbb40",
   "metadata": {},
   "outputs": [
    {
     "name": "stdout",
     "output_type": "stream",
     "text": [
      "CPU times: total: 0 ns\n",
      "Wall time: 998 µs\n"
     ]
    }
   ],
   "source": [
    "%%time\n",
    "\n",
    "z = x**2"
   ]
  },
  {
   "cell_type": "markdown",
   "id": "eb16cccd-1a95-4259-b9f2-ab36eabe5069",
   "metadata": {},
   "source": [
    "# Vectorized .apply()"
   ]
  },
  {
   "cell_type": "code",
   "execution_count": 12,
   "id": "51a984be-d187-461e-85b2-41758d3a31d2",
   "metadata": {},
   "outputs": [
    {
     "name": "stdout",
     "output_type": "stream",
     "text": [
      "CPU times: total: 31.2 ms\n",
      "Wall time: 26.9 ms\n"
     ]
    }
   ],
   "source": [
    "%%time\n",
    "\n",
    "x.apply( lambda x: x**2 );"
   ]
  },
  {
   "cell_type": "markdown",
   "id": "fca9d062-183f-4f47-8177-caadc3775efa",
   "metadata": {},
   "source": [
    "# Non-vectorized for loop"
   ]
  },
  {
   "cell_type": "code",
   "execution_count": 10,
   "id": "1ed9a14d-1715-49d5-b08c-8f88ee432f9c",
   "metadata": {},
   "outputs": [
    {
     "name": "stdout",
     "output_type": "stream",
     "text": [
      "CPU times: total: 3.52 s\n",
      "Wall time: 3.52 s\n"
     ]
    }
   ],
   "source": [
    "%%time\n",
    "\n",
    "for i in range(N):\n",
    "    z.iloc[i] = x.iloc[i]**2"
   ]
  }
 ],
 "metadata": {
  "kernelspec": {
   "display_name": "CSCI 4900",
   "language": "python",
   "name": "csci4900"
  },
  "language_info": {
   "codemirror_mode": {
    "name": "ipython",
    "version": 3
   },
   "file_extension": ".py",
   "mimetype": "text/x-python",
   "name": "python",
   "nbconvert_exporter": "python",
   "pygments_lexer": "ipython3",
   "version": "3.8.18"
  }
 },
 "nbformat": 4,
 "nbformat_minor": 5
}
