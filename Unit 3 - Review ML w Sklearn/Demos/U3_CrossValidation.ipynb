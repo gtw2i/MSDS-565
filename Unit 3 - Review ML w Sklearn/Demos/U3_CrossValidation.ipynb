{
 "cells": [
  {
   "cell_type": "code",
   "execution_count": 1,
   "id": "aa715739-22ad-48ab-b3bd-88048badbfd0",
   "metadata": {},
   "outputs": [],
   "source": [
    "import numpy as np\n",
    "import pandas as pd\n",
    "import matplotlib.pyplot as plt\n",
    "import seaborn as sns\n",
    "\n",
    "pd.set_option('display.max_columns',100)\n",
    "pd.set_option('display.max_rows',100)\n",
    "\n",
    "plt.style.use('dark_background')"
   ]
  },
  {
   "cell_type": "code",
   "execution_count": 2,
   "id": "dac16dcf-aa00-471b-8d2c-203a0098a0ac",
   "metadata": {},
   "outputs": [
    {
     "data": {
      "text/plain": [
       "array([[-1.29035828],\n",
       "       [-1.03637089],\n",
       "       [-2.04094923],\n",
       "       [-0.61020833],\n",
       "       [ 1.15466086],\n",
       "       [ 0.06087801],\n",
       "       [ 0.39681092],\n",
       "       [ 0.45397123],\n",
       "       [ 0.66642108],\n",
       "       [ 1.50918224],\n",
       "       [-1.18482801],\n",
       "       [ 0.76281874],\n",
       "       [-1.61263852],\n",
       "       [-1.51792398],\n",
       "       [ 0.90959838],\n",
       "       [-0.44976146],\n",
       "       [-0.49077137],\n",
       "       [ 0.63566279],\n",
       "       [-0.67087921],\n",
       "       [-0.5595698 ]])"
      ]
     },
     "execution_count": 2,
     "metadata": {},
     "output_type": "execute_result"
    }
   ],
   "source": [
    "nPts = 20\n",
    "\n",
    "m = 0.75\n",
    "b = 1\n",
    "\n",
    "X = np.random.randn(nPts,1)\n",
    "X"
   ]
  },
  {
   "cell_type": "code",
   "execution_count": 5,
   "id": "4fd79ab0-89b9-4f0f-b5ee-7f51f9095ea9",
   "metadata": {},
   "outputs": [
    {
     "name": "stdout",
     "output_type": "stream",
     "text": [
      "16 4 20\n",
      "16 4 20\n",
      "16 4 20\n",
      "16 4 20\n",
      "16 4 20\n"
     ]
    },
    {
     "data": {
      "image/png": "[encoded data removed]",
      "text/plain": [
       "<Figure size 1000x400 with 2 Axes>"
      ]
     },
     "metadata": {},
     "output_type": "display_data"
    }
   ],
   "source": [
    "from sklearn.model_selection import KFold\n",
    "\n",
    "n_splits = 5\n",
    "\n",
    "kf = KFold(n_splits=n_splits, shuffle=True)\n",
    "\n",
    "matrix = np.zeros((n_splits,nPts))\n",
    "\n",
    "for i, (train_index, test_index) in enumerate(kf.split(X)):\n",
    "    matrix[i,train_index] = 1\n",
    "    matrix[i,test_index] = 0\n",
    "    print(len(train_index),len(test_index),len(X))\n",
    "# end\n",
    "\n",
    "plt.figure(figsize=(10,4))\n",
    "sns.heatmap(matrix, cmap='gray');\n",
    "plt.gca().set_aspect('equal')"
   ]
  },
  {
   "cell_type": "code",
   "execution_count": null,
   "id": "5966ccf6-b136-45fa-85f0-b812196edbde",
   "metadata": {},
   "outputs": [],
   "source": []
  }
 ],
 "metadata": {
  "kernelspec": {
   "display_name": "CSCI 4900",
   "language": "python",
   "name": "csci4900"
  },
  "language_info": {
   "codemirror_mode": {
    "name": "ipython",
    "version": 3
   },
   "file_extension": ".py",
   "mimetype": "text/x-python",
   "name": "python",
   "nbconvert_exporter": "python",
   "pygments_lexer": "ipython3",
   "version": "3.8.18"
  }
 },
 "nbformat": 4,
 "nbformat_minor": 5
}
